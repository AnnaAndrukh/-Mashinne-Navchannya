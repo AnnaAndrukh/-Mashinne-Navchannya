{
  "metadata": {
    "kernelspec": {
      "name": "python",
      "display_name": "Python (Pyodide)",
      "language": "python"
    },
    "language_info": {
      "codemirror_mode": {
        "name": "python",
        "version": 3
      },
      "file_extension": ".py",
      "mimetype": "text/x-python",
      "name": "python",
      "nbconvert_exporter": "python",
      "pygments_lexer": "ipython3",
      "version": "3.8"
    }
  },
  "nbformat_minor": 5,
  "nbformat": 4,
  "cells": [
    {
      "id": "aed2391c-ecb7-44e6-b558-a875b369de11",
      "cell_type": "code",
      "source": "#1.Створіть одновимірний масив (вектор) з першими 10-ма натуральними числами та виведіть його значення.\n\n#Створюємо одновимірний масив (вектор) з першими 10-ма натуральними числами\nnatural_numbers = list(range(1, 11))\n\n# Виводимо значення масива\nnatural_numbers ",
      "metadata": {
        "trusted": true
      },
      "outputs": [
        {
          "execution_count": 4,
          "output_type": "execute_result",
          "data": {
            "text/plain": "[1, 2, 3, 4, 5, 6, 7, 8, 9, 10]"
          },
          "metadata": {}
        }
      ],
      "execution_count": 4
    },
    {
      "id": "2db79550-1b82-4c27-8e19-a17bc2962e3f",
      "cell_type": "code",
      "source": "#2.Створіть двовимірний масив (матрицю) розміром 4x4, заповніть його одиницями та виведіть його значення\nimport numpy as np\n\n# Створюємо двовимірний масив (матрицю) розміром 4x4, заповнений одиницями\nmatrix_4x4 = np.ones((4, 4))\n\n# Виводимо значення матриці\nprint(matrix_4x4)\n    ",
      "metadata": {
        "trusted": true
      },
      "outputs": [
        {
          "name": "stdout",
          "text": "[[1. 1. 1. 1.]\n [1. 1. 1. 1.]\n [1. 1. 1. 1.]\n [1. 1. 1. 1.]]\n",
          "output_type": "stream"
        }
      ],
      "execution_count": 5
    },
    {
      "id": "263d4e89-abc4-420e-99bc-ecc409369962",
      "cell_type": "code",
      "source": "#3.Створіть масив розміром 4x4, заповніть його випадковими цілими числами в діапазоні від 1 до 5 та виведіть його значення.\n\nimport numpy as np\n\n# Створюємо масив 4x4 з випадковими числами від 1 до 5\narray = np.random.randint(1, 6, size=(4, 4))\n\n# Виводимо масив\nprint(array)\n",
      "metadata": {
        "trusted": true
      },
      "outputs": [
        {
          "name": "stdout",
          "text": "[[4 5 3 1]\n [2 5 5 3]\n [4 2 1 3]\n [2 1 2 4]]\n",
          "output_type": "stream"
        }
      ],
      "execution_count": 6
    },
    {
      "id": "e4965f7d-d7f5-4eba-a1bb-c4409dfce238",
      "cell_type": "code",
      "source": "#4.Створіть масив розміром 3x3, заповніть його випадковими дійсними числами в діапазоні від 0 до 1 та виведіть його значення.\nimport numpy as np\n\n# Створюємо масив 3x3 з випадковими дійсними числами від 0 до 1\narray = np.random.random((3, 3))\n\n# Виводимо масив\nprint(array)\n",
      "metadata": {
        "trusted": true
      },
      "outputs": [
        {
          "name": "stdout",
          "text": "[[0.92461883 0.13789505 0.22146148]\n [0.17746231 0.95159861 0.00969123]\n [0.32896112 0.56348099 0.92285816]]\n",
          "output_type": "stream"
        }
      ],
      "execution_count": 7
    },
    {
      "id": "08c75cdd-518a-4359-86af-8a80c272ab6d",
      "cell_type": "code",
      "source": "#5.Створіть два одновимірних масиви розміром 6, заповніть їх випадковими цілими числами в діапазоні від 1 до 20 та виконайте на них поелементні операції додавання, віднімання та множення.\n\nimport numpy as np\n\n# Створюємо два масиви розміром 6 з випадковими цілими числами від 1 до 20\narray1 = np.random.randint(1, 21, size=6)\narray2 = np.random.randint(1, 21, size=6)\n\n# Виводимо масиви\nprint(\"Array 1:\", array1)\nprint(\"Array 2:\", array2)\n\n# Виконуємо поелементні операції\naddition = array1 + array2\nsubtraction = array1 - array2\nmultiplication = array1 * array2\n\n# Виводимо результати операцій\nprint(\"Addition:\", addition)\nprint(\"Subtraction:\", subtraction)\nprint(\"Multiplication:\", multiplication)\n",
      "metadata": {
        "trusted": true
      },
      "outputs": [
        {
          "name": "stdout",
          "text": "Array 1: [17 20 18  1  5 14]\nArray 2: [ 8  7  3 14  9 20]\nAddition: [25 27 21 15 14 34]\nSubtraction: [  9  13  15 -13  -4  -6]\nMultiplication: [136 140  54  14  45 280]\n",
          "output_type": "stream"
        }
      ],
      "execution_count": 8
    },
    {
      "id": "e0d57050-4c7e-4e8b-b153-ad13fdb37033",
      "cell_type": "code",
      "source": "#6.Створіть два матриці 2x2, заповніть їх довільними цілими числами та знайдіть їх добуток.\n\nimport numpy as np\n\n# Створюємо дві матриці 2x2 з випадковими цілими числами\nmatrix1 = np.random.randint(1, 10, size=(2, 2))\nmatrix2 = np.random.randint(1, 10, size=(2, 2))\n\n# Виводимо матриці\nprint(\"Matrix 1:\\n\", matrix1)\nprint(\"Matrix 2:\\n\", matrix2)\n\n# Обчислюємо добуток матриць\nproduct = np.dot(matrix1, matrix2)\n\n# Виводимо добуток\nprint(\"Product of Matrix 1 and Matrix 2:\\n\", product)\n",
      "metadata": {
        "trusted": true
      },
      "outputs": [
        {
          "name": "stdout",
          "text": "Matrix 1:\n [[4 5]\n [4 7]]\nMatrix 2:\n [[1 7]\n [3 6]]\nProduct of Matrix 1 and Matrix 2:\n [[19 58]\n [25 70]]\n",
          "output_type": "stream"
        }
      ],
      "execution_count": 9
    },
    {
      "id": "6f4251de-ed00-4cc9-b629-0ce41dcc6479",
      "cell_type": "code",
      "source": "#7.Створіть дві матриці розміром 3x2 та 2x4, заповніть їх випадковими цілими числами в діапазоні від 1 до 10 та перемножте їх між собою.\n\nimport numpy as np\n\n# Створюємо першу матрицю розміром 3x2 з випадковими цілими числами від 1 до 10\nmatrix1 = np.random.randint(1, 11, size=(3, 2))\n\n# Створюємо другу матрицю розміром 2x4 з випадковими цілими числами від 1 до 10\nmatrix2 = np.random.randint(1, 11, size=(2, 4))\n\n# Виводимо матриці\nprint(\"Matrix 1 (3x2):\\n\", matrix1)\nprint(\"Matrix 2 (2x4):\\n\", matrix2)\n\n# Обчислюємо добуток матриць\nproduct = np.dot(matrix1, matrix2)\n\n# Виводимо добуток\nprint(\"Product of Matrix 1 and Matrix 2:\\n\", product)\n",
      "metadata": {
        "trusted": true
      },
      "outputs": [
        {
          "name": "stdout",
          "text": "Matrix 1 (3x2):\n [[8 2]\n [1 4]\n [5 4]]\nMatrix 2 (2x4):\n [[ 3  7  6  8]\n [ 1  7 10  2]]\nProduct of Matrix 1 and Matrix 2:\n [[26 70 68 68]\n [ 7 35 46 16]\n [19 63 70 48]]\n",
          "output_type": "stream"
        }
      ],
      "execution_count": 10
    },
    {
      "id": "6f198c4d-e027-4b14-bdfa-cf4f31d5723e",
      "cell_type": "code",
      "source": "#8.Створіть матрицю розміром 2x2, заповніть її випадковими цілими числами в діапазоні від 1 до 7 та знайдіть її обернену матрицю.\n\nimport numpy as np\n\n# Створюємо матрицю 2x2 з випадковими цілими числами від 1 до 7\nmatrix = np.random.randint(1, 8, size=(2, 2))\n\n# Виводимо матрицю\nprint(\"Matrix:\\n\", matrix)\n\n# Обчислюємо обернену матрицю\ntry:\n    inverse_matrix = np.linalg.inv(matrix)\n    print(\"Inverse Matrix:\\n\", inverse_matrix)\nexcept np.linalg.LinAlgError:\n    print(\"Матриця не має оберненої, оскільки є сингулярною.\")\n",
      "metadata": {
        "trusted": true
      },
      "outputs": [
        {
          "name": "stdout",
          "text": "Matrix:\n [[2 5]\n [7 5]]\nInverse Matrix:\n [[-0.2   0.2 ]\n [ 0.28 -0.08]]\n",
          "output_type": "stream"
        }
      ],
      "execution_count": 11
    },
    {
      "id": "9cde7298-7eb2-43c8-ab67-8a34b44808c3",
      "cell_type": "code",
      "source": "#9.Створіть матрицю розміром 3x3, заповніть її випадковими дійсними числами в діапазоні від 0 до 1 та транспонуйте її.\n\nimport numpy as np\n\n# Створюємо матрицю 3x3 з випадковими дійсними числами від 0 до 1\nmatrix = np.random.random((3, 3))\n\n# Виводимо матрицю\nprint(\"Original Matrix:\\n\", matrix)\n\n# Транспонуємо матрицю\ntransposed_matrix = np.transpose(matrix)\n\n# Виводимо транспоновану матрицю\nprint(\"Transposed Matrix:\\n\", transposed_matrix)\n",
      "metadata": {
        "trusted": true
      },
      "outputs": [
        {
          "name": "stdout",
          "text": "Original Matrix:\n [[0.31318875 0.45310625 0.93505316]\n [0.46402356 0.02203795 0.57982736]\n [0.34783983 0.97328567 0.72531706]]\nTransposed Matrix:\n [[0.31318875 0.46402356 0.34783983]\n [0.45310625 0.02203795 0.97328567]\n [0.93505316 0.57982736 0.72531706]]\n",
          "output_type": "stream"
        }
      ],
      "execution_count": 12
    },
    {
      "id": "072745f0-f713-479a-989d-d68a9b9335fc",
      "cell_type": "code",
      "source": "#10.Створіть матрицю розміром 3x4 та вектор розміром 4 x1, заповніть їх випадковими цілими числами в діапазоні від 1 до 10 та знайдіть добуток матриці на вектор.\n\nimport numpy as np\n\n# Створюємо матрицю 3x4 з випадковими цілими числами від 1 до 10\nmatrix = np.random.randint(1, 11, size=(3, 4))\n\n# Створюємо вектор 4x1 з випадковими цілими числами від 1 до 10\nvector = np.random.randint(1, 11, size=(4, 1))\n\n# Виводимо матрицю та вектор\nprint(\"Matrix (3x4):\\n\", matrix)\nprint(\"Vector (4x1):\\n\", vector)\n\n# Обчислюємо добуток матриці на вектор\nproduct = np.dot(matrix, vector)\n\n# Виводимо добуток\nprint(\"Product of Matrix and Vector:\\n\", product)\n",
      "metadata": {
        "trusted": true
      },
      "outputs": [
        {
          "name": "stdout",
          "text": "Matrix (3x4):\n [[9 4 3 4]\n [6 5 2 4]\n [9 2 1 5]]\nVector (4x1):\n [[7]\n [8]\n [5]\n [8]]\nProduct of Matrix and Vector:\n [[142]\n [124]\n [124]]\n",
          "output_type": "stream"
        }
      ],
      "execution_count": 13
    },
    {
      "id": "3a479261-f2a7-4939-8785-a1379e6f030f",
      "cell_type": "code",
      "source": "#11.Створіть матрицю розміром 2x3 та вектор розміром 3x1, заповніть матрицю випадковими цілими числами в діапазоні від 1 до 10, а вектор - випадковими цілими числами в діапазоні від 1 до 10, і знайдіть добуток матриці на вектор.\n\nimport numpy as np\n\n# Створюємо матрицю 2x3 з випадковими цілими числами від 1 до 10\nmatrix = np.random.randint(1, 11, size=(2, 3))\n\n# Створюємо вектор 3x1 з випадковими цілими числами від 1 до 10\nvector = np.random.randint(1, 11, size=(3, 1))\n\n# Виводимо матрицю та вектор\nprint(\"Matrix (2x3):\\n\", matrix)\nprint(\"Vector (3x1):\\n\", vector)\n\n# Обчислюємо добуток матриці на вектор\nproduct = np.dot(matrix, vector)\n\n# Виводимо добуток\nprint(\"Product of Matrix and Vector:\\n\", product)\n\n",
      "metadata": {
        "trusted": true
      },
      "outputs": [
        {
          "name": "stdout",
          "text": "Matrix (2x3):\n [[4 7 4]\n [3 8 6]]\nVector (3x1):\n [[4]\n [5]\n [1]]\nProduct of Matrix and Vector:\n [[55]\n [58]]\n",
          "output_type": "stream"
        }
      ],
      "execution_count": 14
    },
    {
      "id": "33d9583c-d8e8-472f-a3cf-8535397faf6f",
      "cell_type": "code",
      "source": "#12.Створіть дві матриці розміром 2x2, заповніть їх випадковими цілими числами в діапазоні від 1 до 10 та знайдіть їхню суму\n\nimport numpy as np\n\n# Створюємо першу матрицю розміром 2x2 з випадковими цілими числами від 1 до 10\nmatrix1 = np.random.randint(1, 11, size=(2, 2))\n\n# Створюємо другу матрицю розміром 2x2 з випадковими цілими числами від 1 до 10\nmatrix2 = np.random.randint(1, 11, size=(2, 2))\n\n# Виводимо матриці\nprint(\"Matrix 1:\\n\", matrix1)\nprint(\"Matrix 2:\\n\", matrix2)\n\n# Обчислюємо суму матриць\nsum_matrix = matrix1 + matrix2\n\n# Виводимо суму\nprint(\"Sum of Matrix 1 and Matrix 2:\\n\", sum_matrix)\n",
      "metadata": {
        "trusted": true
      },
      "outputs": [
        {
          "name": "stdout",
          "text": "Matrix 1:\n [[2 5]\n [2 3]]\nMatrix 2:\n [[5 2]\n [3 8]]\nSum of Matrix 1 and Matrix 2:\n [[ 7  7]\n [ 5 11]]\n",
          "output_type": "stream"
        }
      ],
      "execution_count": 15
    },
    {
      "id": "9d238dd2-271b-4ae6-bc81-11c67ef88032",
      "cell_type": "code",
      "source": "#13.Створіть дві матриці розміром 2x2, заповніть їх випадковими дійсними числами в діапазоні від 0 до 1 та знайдіть їх добуток.\n\nimport numpy as np\n\n# Створюємо першу матрицю розміром 2x2 з випадковими дійсними числами від 0 до 1\nmatrix1 = np.random.random((2, 2))\n\n# Створюємо другу матрицю розміром 2x2 з випадковими дійсними числами від 0 до 1\nmatrix2 = np.random.random((2, 2))\n\n# Виводимо матриці\nprint(\"Matrix 1:\\n\", matrix1)\nprint(\"Matrix 2:\\n\", matrix2)\n\n# Обчислюємо добуток матриць\nproduct = np.dot(matrix1, matrix2)\n\n# Виводимо добуток\nprint(\"Product of Matrix 1 and Matrix 2:\\n\", product)\n",
      "metadata": {
        "trusted": true
      },
      "outputs": [
        {
          "name": "stdout",
          "text": "Matrix 1:\n [[0.65887921 0.21373296]\n [0.2085719  0.08723376]]\nMatrix 2:\n [[0.81444386 0.97084773]\n [0.98077503 0.04880358]]\nProduct of Matrix 1 and Matrix 2:\n [[0.74624407 0.65010231]\n [0.2554268  0.20674888]]\n",
          "output_type": "stream"
        }
      ],
      "execution_count": 16
    },
    {
      "id": "60422dbe-fd83-4309-be88-e2356c523dc2",
      "cell_type": "code",
      "source": "#14.Створіть матрицю розміром 5x5, заповніть її випадковими дійсними числами в діапазоні від 0 до 1 та знайдіть суму елементів матриці\n\nimport numpy as np\n\n# Створюємо матрицю 5x5 з випадковими дійсними числами від 0 до 1\nmatrix = np.random.random((5, 5))\n\n# Виводимо матрицю\nprint(\"Matrix (5x5):\\n\", matrix)\n\n# Обчислюємо суму всіх елементів матриці\nsum_elements = np.sum(matrix)\n\n# Виводимо суму\nprint(\"Sum of all elements in the matrix:\", sum_elements)\n",
      "metadata": {
        "trusted": true
      },
      "outputs": [
        {
          "name": "stdout",
          "text": "Matrix (5x5):\n [[0.5029392  0.33553243 0.12312758 0.13690131 0.49808474]\n [0.68025637 0.43365541 0.71728423 0.18078768 0.53160633]\n [0.91849994 0.45477884 0.28105406 0.32548769 0.39879652]\n [0.65025974 0.79352448 0.73586495 0.78457047 0.85692558]\n [0.80080318 0.85291605 0.22437337 0.97946051 0.2545948 ]]\nSum of all elements in the matrix: 13.452085456291561\n",
          "output_type": "stream"
        }
      ],
      "execution_count": 17
    },
    {
      "id": "6a4007a3-5a72-4409-a022-317abc44645d",
      "cell_type": "code",
      "source": "#15.Створіть матрицю розміром 3x3, заповніть її випадковими дійсними числами в діапазоні від -1 до 1 та знайдіть вектор-стовпчик, що містить суму елементів кожного рядка матриці.\n\nimport numpy as np\n\n# Створюємо матрицю 3x3 з випадковими дійсними числами від -1 до 1\nmatrix = np.random.uniform(-1, 1, size=(3, 3))\n\n# Виводимо матрицю\nprint(\"Matrix (3x3):\\n\", matrix)\n\n# Обчислюємо суму елементів кожного рядка\nrow_sums = np.sum(matrix, axis=1)\n\n# Перетворюємо вектор рядкових сум у стовпчик\nrow_sums_column_vector = row_sums.reshape(-1, 1)\n\n# Виводимо вектор-стовпчик\nprint(\"Column vector with the sum of each row:\\n\", row_sums_column_vector)\n",
      "metadata": {
        "trusted": true
      },
      "outputs": [
        {
          "name": "stdout",
          "text": "Matrix (3x3):\n [[-0.65539641  0.35054521 -0.14592206]\n [-0.04237317  0.27618821 -0.30777192]\n [-0.37932096 -0.71290144  0.00515731]]\nColumn vector with the sum of each row:\n [[-0.45077326]\n [-0.07395689]\n [-1.08706509]]\n",
          "output_type": "stream"
        }
      ],
      "execution_count": 18
    },
    {
      "id": "9da86d33-31f3-41a0-a148-014ee1ed4751",
      "cell_type": "code",
      "source": "#Висновок:\n#У рамках виконаних завдань було продемонстровано основи роботи з матрицями і векторами, використовуючи бібліотеку NumPy в Python.\n\n#Створення та обробка матриць: Ми навчились створювати матриці різних розмірів та заповнювати їх випадковими дійсними і цілими числами в заданих діапазонах. Ці навички є базовими для роботи з числовими даними та виконанням математичних операцій.\n\n#Матричні операції: Виконані операції включали:\n\n#Добуток матриць: Ми навчились множити матриці, що демонструє як обчислювати матричний добуток.\n\n#Обернена матриця: Було показано, як обчислювати обернену матрицю і враховувати можливі проблеми з сингулярними матрицями.\n\n#Сума елементів: Визначили, як обчислювати суму всіх елементів матриці, що корисно для загальних статистичних обчислень.\n\n#Операції з векторами: Показано, як виконувати операції між матрицями та векторами, зокрема, як обчислювати добуток матриці на вектор та знаходити суму елементів кожного рядка матриці.\n\n#Ці завдання підкреслюють важливість вміння ефективно працювати з матрицями та векторами в наукових розрахунках і обробці даних, а також розвивають навички виконання основних матричних операцій, що є критично важливими для аналізу даних, чисельних методів та інших областей математики і науки.",
      "metadata": {
        "trusted": true
      },
      "outputs": [],
      "execution_count": null
    },
    {
      "id": "7904441d-7b2c-413d-8fe7-7a99d8529dc0",
      "cell_type": "code",
      "source": "",
      "metadata": {
        "trusted": true
      },
      "outputs": [],
      "execution_count": null
    }
  ]
}